{
 "cells": [
  {
   "cell_type": "code",
   "execution_count": 1,
   "id": "3ebbd801",
   "metadata": {},
   "outputs": [],
   "source": [
    "from src.rename_files import rename_files_and_move_to_folders, scrape_episodes_name_from_wiki"
   ]
  },
  {
   "cell_type": "markdown",
   "id": "7cfbcc18",
   "metadata": {},
   "source": [
    "# Run file renamer"
   ]
  },
  {
   "cell_type": "code",
   "execution_count": null,
   "id": "4d1867fe",
   "metadata": {},
   "outputs": [],
   "source": [
    "# indicate if you want to scrape wiki data\n",
    "scrape_wiki_data = True\n",
    "\n",
    "# if not, provide path for episode_names or set get_names to False\n",
    "get_names = True\n",
    "path_to_episode_names = \"wiki_data/friends_episodes.json\""
   ]
  },
  {
   "cell_type": "code",
   "execution_count": null,
   "id": "98be6e3c",
   "metadata": {},
   "outputs": [
    {
     "name": "stdout",
     "output_type": "stream",
     "text": [
      "Processed files in D:\\Movies&Shows\\Shows\\Friends\\S04\n"
     ]
    }
   ],
   "source": [
    "if scrape_wiki_data:\n",
    "    # scrape wikipedia page and extract data from tables\n",
    "    episodes_path = scrape_episodes_name_from_wiki(\n",
    "        wiki_url=\"https://en.wikipedia.org/wiki/List_of_Friends_episodes\",\n",
    "        output_name=\"friends_episodes\"\n",
    "        )\n",
    "else:\n",
    "    episodes_path = path_to_episode_names\n",
    "\n",
    "# rename files to have uniform format, add episode names\n",
    "rename_files_and_move_to_folders(\n",
    "    raw_data_folder=\"path/to/folder\",\n",
    "    show_name=\"Friends\",\n",
    "    add_names=get_names,\n",
    "    episode_names_path=episodes_path\n",
    "    )"
   ]
  }
 ],
 "metadata": {
  "kernelspec": {
   "display_name": "Python 3",
   "language": "python",
   "name": "python3"
  },
  "language_info": {
   "codemirror_mode": {
    "name": "ipython",
    "version": 3
   },
   "file_extension": ".py",
   "mimetype": "text/x-python",
   "name": "python",
   "nbconvert_exporter": "python",
   "pygments_lexer": "ipython3",
   "version": "3.9.2"
  }
 },
 "nbformat": 4,
 "nbformat_minor": 5
}
